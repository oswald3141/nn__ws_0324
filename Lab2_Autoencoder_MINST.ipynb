{
  "cells": [
    {
      "cell_type": "markdown",
      "metadata": {
        "colab_type": "text",
        "id": "QFqK0khlQaKw"
      },
      "source": [
        "# Autoencoder for MINST\n",
        "\n",
        "In this assignment you will build, train and apply an autoencoder on the MINST dataset.\n",
        "Autoencoders are capable of finding a compressed format for an input/output. \n",
        "If built with just a linear layer, they will essentially perform PCA, but with nonlinear hidden layers, they can perform additional nonlinear transformation, which might lead to a better compression ratio. "
      ]
    },
    {
      "cell_type": "markdown",
      "metadata": {
        "colab_type": "text",
        "id": "URhuwzQHQaKy"
      },
      "source": [
        "### Setup\n",
        "As always, start with importing numpy, matplotlib and tensorflow as you are getting used to"
      ]
    },
    {
      "cell_type": "code",
      "execution_count": 2,
      "metadata": {
        "colab": {},
        "colab_type": "code",
        "id": "k8wXonXzQaK0"
      },
      "outputs": [],
      "source": [
        "# TODO:\n",
        "import numpy as np\n",
        "import matplotlib.pyplot as plt\n",
        "import tensorflow as tf\n",
        "import tensorflow.keras as K"
      ]
    },
    {
      "cell_type": "markdown",
      "metadata": {
        "colab_type": "text",
        "id": "u4U6rkI0QaLV"
      },
      "source": [
        "### Load training data\n",
        "We use the fashion part of the MNIST dataset, which is openly available. \n",
        "Keras should download it for you automatically"
      ]
    },
    {
      "cell_type": "code",
      "execution_count": 3,
      "metadata": {
        "colab": {},
        "colab_type": "code",
        "id": "mJGcHp-IQaLX"
      },
      "outputs": [],
      "source": [
        "(X_train_full, y_train_full), _ = K.datasets.fashion_mnist.load_data()\n",
        "\n",
        "# TODO: \n",
        "# rescale the grayscale images to have values to be within range 0 to 1\n",
        "# split the training data into training and validation set by using the last 5000 images as validation set\n",
        "# name them X_train and X_valid.\n",
        "X_train_full = tf.convert_to_tensor(X_train_full)\n",
        "y_train_full = tf.convert_to_tensor(y_train_full)\n",
        "\n",
        "X_train_full = X_train_full/255\n",
        "X_valid = X_train_full[-5000:,:,:]\n",
        "X_train = X_train_full[:-5000,:,:]\n",
        "\n",
        "n_std = 0.0 # 0 to disable the noise\n",
        "X_train_full_noise = X_train_full + tf.random.normal(shape=X_train_full.shape, stddev=n_std)\n",
        "X_train_full_noise = tf.clip_by_value(X_train_full_noise, clip_value_min=0., clip_value_max=1.)\n",
        "X_valid_noise = X_train_full_noise[-5000:,:,:]\n",
        "X_train_noise = X_train_full_noise[:-5000,:,:]\n"
      ]
    },
    {
      "cell_type": "markdown",
      "metadata": {},
      "source": [
        "A couple utility functions to plot the images:"
      ]
    },
    {
      "cell_type": "code",
      "execution_count": 4,
      "metadata": {},
      "outputs": [],
      "source": [
        "def plot_image(image):\n",
        "    plt.imshow(image, cmap=\"binary\")\n",
        "    plt.axis(\"off\")\n",
        "\n",
        "def show_reconstructions(model, images=X_valid, n_images=5):\n",
        "    reconstructions = model.predict(images[:n_images])\n",
        "    fig = plt.figure(figsize=(n_images * 1.5, 3))\n",
        "    for image_index in range(n_images):\n",
        "        plt.subplot(2, n_images, 1 + image_index)\n",
        "        plot_image(images[image_index])\n",
        "        plt.subplot(2, n_images, 1 + n_images + image_index)\n",
        "        plot_image(reconstructions[image_index])\n",
        "    plt.show()"
      ]
    },
    {
      "cell_type": "markdown",
      "metadata": {
        "colab_type": "text",
        "id": "5ukD7XAlQaLb"
      },
      "source": [
        "### Build & Train the autoencoder"
      ]
    },
    {
      "cell_type": "markdown",
      "metadata": {
        "colab_type": "text",
        "id": "4WH_TgDJQaLc"
      },
      "source": [
        "We now want to build an autoencoder, e.g. two hidden layers in the encoder and respective decoder, that is able to retain B/W pixels.\n",
        "For the sizes of the layers, look at the dimension of your input as a reference. \\\n",
        "Figure out the minimum size of the bottleneck such that the rounded_accuracy metric stays just above 93%.  \n",
        "\n",
        "Check the dimension of your input images. To connect those to your dense layer, you will need to flatten the incoming data inside your model and when reconstructing, to reshape the data to match with the originals.\n",
        "\n",
        "\n",
        "Think about: \n",
        "What will be the input and output of the autoencoder? \\\n",
        "Which loss function is appropriate given the target metric? \\\n",
        "Which activation is appropriate for the output of the decoder?"
      ]
    },
    {
      "cell_type": "code",
      "execution_count": 5,
      "metadata": {},
      "outputs": [],
      "source": [
        "# pass this measure  as **metric** to your compile function. \n",
        "# Metrics are there to help you assess the progress/quality of your training, while not being actively involved in the minimization. \n",
        "# This could for example be a dB metric, instead of a 1.234e-4 MSE loss. \n",
        "def rounded_accuracy(y_true, y_pred):\n",
        "    return K.metrics.binary_accuracy(tf.round(y_true), tf.round(y_pred))"
      ]
    },
    {
      "cell_type": "code",
      "execution_count": 6,
      "metadata": {
        "colab": {},
        "colab_type": "code",
        "id": "ZdlbS3JKQaLh"
      },
      "outputs": [
        {
          "name": "stdout",
          "output_type": "stream",
          "text": [
            "Model: \"model\"\n",
            "_________________________________________________________________\n",
            " Layer (type)                Output Shape              Param #   \n",
            "=================================================================\n",
            " input_1 (InputLayer)        [(None, 28, 28)]          0         \n",
            "                                                                 \n",
            " flatten (Flatten)           (None, 784)               0         \n",
            "                                                                 \n",
            " dense (Dense)               (None, 24)                18840     \n",
            "                                                                 \n",
            " dense_1 (Dense)             (None, 784)               19600     \n",
            "                                                                 \n",
            " reshape (Reshape)           (None, 28, 28)            0         \n",
            "                                                                 \n",
            "=================================================================\n",
            "Total params: 38,440\n",
            "Trainable params: 38,440\n",
            "Non-trainable params: 0\n",
            "_________________________________________________________________\n",
            "Epoch 1/10\n",
            "1719/1719 [==============================] - 5s 2ms/step - loss: 0.0317 - rounded_accuracy: 0.8896 - val_loss: 0.0196 - val_rounded_accuracy: 0.9221\n",
            "Epoch 2/10\n",
            "1719/1719 [==============================] - 5s 3ms/step - loss: 0.0171 - rounded_accuracy: 0.9281 - val_loss: 0.0162 - val_rounded_accuracy: 0.9319\n",
            "Epoch 3/10\n",
            "1719/1719 [==============================] - 4s 2ms/step - loss: 0.0155 - rounded_accuracy: 0.9328 - val_loss: 0.0155 - val_rounded_accuracy: 0.9341\n",
            "Epoch 4/10\n",
            "1719/1719 [==============================] - 4s 2ms/step - loss: 0.0151 - rounded_accuracy: 0.9340 - val_loss: 0.0151 - val_rounded_accuracy: 0.9336\n",
            "Epoch 5/10\n",
            "1719/1719 [==============================] - 4s 2ms/step - loss: 0.0149 - rounded_accuracy: 0.9346 - val_loss: 0.0149 - val_rounded_accuracy: 0.9343\n",
            "Epoch 6/10\n",
            "1719/1719 [==============================] - 4s 2ms/step - loss: 0.0147 - rounded_accuracy: 0.9349 - val_loss: 0.0149 - val_rounded_accuracy: 0.9357\n",
            "Epoch 7/10\n",
            "1719/1719 [==============================] - 4s 2ms/step - loss: 0.0146 - rounded_accuracy: 0.9352 - val_loss: 0.0148 - val_rounded_accuracy: 0.9352\n",
            "Epoch 8/10\n",
            "1719/1719 [==============================] - 4s 2ms/step - loss: 0.0146 - rounded_accuracy: 0.9354 - val_loss: 0.0147 - val_rounded_accuracy: 0.9347\n",
            "Epoch 9/10\n",
            "1719/1719 [==============================] - 4s 2ms/step - loss: 0.0145 - rounded_accuracy: 0.9356 - val_loss: 0.0147 - val_rounded_accuracy: 0.9354\n",
            "Epoch 10/10\n",
            "1719/1719 [==============================] - 5s 3ms/step - loss: 0.0145 - rounded_accuracy: 0.9356 - val_loss: 0.0147 - val_rounded_accuracy: 0.9344\n"
          ]
        }
      ],
      "source": [
        "# TODO:\n",
        "#autoenc_model = \n",
        "#autoenc_model.compile(loss=, optimizer=, metrics=)\n",
        "#hist = autoenc_model.fit(X=, Y=, epochs=10, validation_data=[])\n",
        "\n",
        "n_hidden = 24\n",
        "img_shape = X_train.shape[1:]\n",
        "\n",
        "input_layer = K.Input(img_shape)\n",
        "flatten_layer = K.layers.Flatten()(input_layer)\n",
        "hidden_layer_1 = K.layers.Dense(n_hidden, activation=K.activations.relu)(flatten_layer)\n",
        "hidden_layer_2 = K.layers.Dense(tf.math.reduce_prod(img_shape), activation=K.activations.sigmoid)(hidden_layer_1)\n",
        "output_layer = K.layers.Reshape(img_shape)(hidden_layer_2)\n",
        "\n",
        "autoenc_model = K.Model(inputs=input_layer, outputs=output_layer)\n",
        "autoenc_model.summary()\n",
        "autoenc_model.compile( \n",
        "    optimizer=K.optimizers.Adam(learning_rate=0.001),\n",
        "    loss=K.losses.MeanSquaredError(),\n",
        "    metrics=rounded_accuracy)\n",
        "hist = autoenc_model.fit(x=X_train_noise, y=X_train, epochs=10, shuffle=True, validation_data=(X_valid_noise, X_valid))\n"
      ]
    },
    {
      "cell_type": "code",
      "execution_count": 7,
      "metadata": {},
      "outputs": [
        {
          "name": "stdout",
          "output_type": "stream",
          "text": [
            "1/1 [==============================] - 0s 112ms/step\n"
          ]
        },
        {
          "data": {
            "image/png": "[encoded data removed]",
            "text/plain": [
              "<Figure size 750x300 with 10 Axes>"
            ]
          },
          "metadata": {},
          "output_type": "display_data"
        }
      ],
      "source": [
        "# visualize the output alongside the original images\n",
        "show_reconstructions(autoenc_model, images=X_valid_noise)"
      ]
    },
    {
      "cell_type": "markdown",
      "metadata": {},
      "source": [
        "- Try a linear-only auto encoder for reference. Was there really any benefit from having a NN here?\n",
        "- Evaluate how noise on the input data affects the outcome?\n",
        "- Find a way to tap into the model and extract the codings. Is there anything meaninful still left?\n",
        "- Optional: Try replacing some of the layers with convolutional/pooling layers (in the decoder it would need to be deconvolution). Does it affect the performance/complexity?"
      ]
    },
    {
      "cell_type": "code",
      "execution_count": 47,
      "metadata": {},
      "outputs": [
        {
          "data": {
            "image/png": "[encoded data removed]",
            "text/plain": [
              "<Figure size 640x480 with 1 Axes>"
            ]
          },
          "metadata": {},
          "output_type": "display_data"
        },
        {
          "data": {
            "image/png": "[encoded data removed]",
            "text/plain": [
              "<Figure size 500x200 with 1 Axes>"
            ]
          },
          "metadata": {},
          "output_type": "display_data"
        }
      ],
      "source": [
        "test_image = X_valid[6,:,:]\n",
        "encode_extractor = K.Model(inputs=autoenc_model.layers[0].input, outputs=autoenc_model.layers[2].output)\n",
        "encoded_data = encode_extractor(tf.expand_dims(test_image,0))\n",
        "\n",
        "plot_image(test_image.numpy().squeeze())\n",
        "plt.figure(figsize=[5,2])\n",
        "plt.plot(encoded_data.numpy().squeeze())\n",
        "plt.xlabel('sample number'), plt.ylabel('sample value'), plt.grid()\n",
        "plt.show()"
      ]
    },
    {
      "cell_type": "markdown",
      "metadata": {},
      "source": [
        "### AI generated new fashion!\n",
        "Finally, have some fun and use the decoder as a generator for next-gen fashion by feeding it random codings ;) \\\n",
        "While the result here might look quite crappy, this actually is a use case for the trained decoders: generating even more data. "
      ]
    },
    {
      "cell_type": "code",
      "execution_count": 172,
      "metadata": {},
      "outputs": [
        {
          "name": "stdout",
          "output_type": "stream",
          "text": [
            "1/1 [==============================] - 0s 39ms/step\n"
          ]
        },
        {
          "data": {
            "image/png": "[encoded data removed]",
            "text/plain": [
              "<Figure size 640x480 with 1 Axes>"
            ]
          },
          "metadata": {},
          "output_type": "display_data"
        }
      ],
      "source": [
        "#TODO:\n",
        "inp_shape_dc = (1,n_hidden)\n",
        "input_layer_dc = K.Input(n_hidden)\n",
        "hidden_layer_dc = autoenc_model.layers[3](input_layer_dc)\n",
        "output_layer_dc = autoenc_model.layers[4](hidden_layer_dc)\n",
        "decoder_model = K.Model(inputs=input_layer_dc, outputs=output_layer_dc)\n",
        "\n",
        "rng_avg = 0.5\n",
        "rng_std = 1\n",
        "rnd_decoder_inp = tf.random.normal(shape=(1,n_hidden), mean=rng_avg, stddev=rng_std)\n",
        "#rnd_decoder_inp = tf.random.uniform(shape=(1,n_hidden), minval=0, maxval=1)\n",
        "\n",
        "generated_img = decoder_model.predict(rnd_decoder_inp)\n",
        "plot_image(generated_img.squeeze())\n"
      ]
    }
  ],
  "metadata": {
    "accelerator": "GPU",
    "colab": {
      "collapsed_sections": [],
      "name": "Simple_autoencoder.ipynb",
      "provenance": []
    },
    "kernelspec": {
      "display_name": "Python 3",
      "name": "python3"
    },
    "language_info": {
      "codemirror_mode": {
        "name": "ipython",
        "version": 3
      },
      "file_extension": ".py",
      "mimetype": "text/x-python",
      "name": "python",
      "nbconvert_exporter": "python",
      "pygments_lexer": "ipython3",
      "version": "3.10.13"
    },
    "nav_menu": {
      "height": "381px",
      "width": "453px"
    },
    "toc": {
      "navigate_menu": true,
      "number_sections": true,
      "sideBar": true,
      "threshold": 6,
      "toc_cell": false,
      "toc_section_display": "block",
      "toc_window_display": false
    }
  },
  "nbformat": 4,
  "nbformat_minor": 0
}
